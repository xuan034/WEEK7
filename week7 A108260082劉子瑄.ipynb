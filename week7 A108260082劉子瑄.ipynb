{
  "nbformat": 4,
  "nbformat_minor": 0,
  "metadata": {
    "colab": {
      "name": "Untitled3.ipynb",
      "provenance": []
    },
    "kernelspec": {
      "name": "python3",
      "display_name": "Python 3"
    }
  },
  "cells": [
    {
      "cell_type": "code",
      "metadata": {
        "id": "06jBVirMoxXz",
        "colab_type": "code",
        "colab": {
          "base_uri": "https://localhost:8080/",
          "height": 118
        },
        "outputId": "dac493b0-d6dc-4903-a89b-36d84759c349"
      },
      "source": [
        "print(\"Welcome to the Mashup Game!\")\n",
        "name1 = input(\"Enter one full name (FIRST LAST): \")\n",
        "name2 = input(\"Enter another full name (FIRST LAST): \")\n",
        "space = name1.find(\" \")\n",
        "name1_first = name1[0:space]\n",
        "name1_last = name1[space+1:len(name1)]\n",
        "space = name2.find(\" \")\n",
        "name2_first = name2[0:space]\n",
        "name2_last = name2[space+1:len(name2)]\n",
        "len_name1_first = len(name1_first)\n",
        "len_name2_first = len(name2_first)\n",
        "len_name1_last = len(name1_last)\n",
        "len_name2_last = len(name2_last)\n",
        "index_name1_first = int(len_name1_first/2)\n",
        "index_name2_first = int(len_name2_first/2)\n",
        "index_name1_last = int(len_name1_last/2)\n",
        "index_name2_last = int(len_name2_last/2)\n",
        "lefthalf_name1_first = name1_first[0:index_name1_first]\n",
        "righthalf_name1_first = name1_first[index_name1_first:len_name1_first]\n",
        "lefthalf_name2_first = name2_first[0:index_name2_first]\n",
        "righthalf_name2_first = name2_first[index_name2_first:len_name2_first]\n",
        "lefthalf_name1_last = name1_last[0:index_name1_last]\n",
        "righthalf_name1_last = name1_last[index_name1_last:len_name1_last]\n",
        "lefthalf_name2_last = name2_last[0:index_name2_last]\n",
        "righthalf_name2_last = name2_last[index_name2_last:len_name2_last]\n",
        "newname1_first = lefthalf_name1_first.capitalize() + righthalf_name1_first.lower()\n",
        "newname1_last = lefthalf_name1_last.capitalize() + righthalf_name2_last.lower()\n",
        "newname2_first = lefthalf_name2_first.capitalize() + righthalf_name1_first.lower()\n",
        "newname2_last = lefthalf_name2_last.capitalize() + righthalf_name1_last.lower()\n",
        "print(\"All done! Here are two possibilities, pick the one you like best!\")\n",
        "print(newname1_first, newname1_last)\n",
        "print(newname2_first, newname2_last)"
      ],
      "execution_count": 1,
      "outputs": [
        {
          "output_type": "stream",
          "text": [
            "Welcome to the Mashup Game!\n",
            "Enter one full name (FIRST LAST): Bigflower Francis\n",
            "Enter another full name (FIRST LAST): Hunghua Tien\n",
            "All done! Here are two possibilities, pick the one you like best!\n",
            "Bigflower Fraen\n",
            "Hunlower Tincis\n"
          ],
          "name": "stdout"
        }
      ]
    },
    {
      "cell_type": "code",
      "metadata": {
        "id": "12AOZGMmp1vv",
        "colab_type": "code",
        "colab": {
          "base_uri": "https://localhost:8080/",
          "height": 134
        },
        "outputId": "0f039218-f58b-4ac2-c735-2560d4ddb612"
      },
      "source": [
        "待辦事項 = []\n",
        "工作 = input('請輸入待辦事項?')\n",
        "待辦事項.append(工作)\n",
        "工作 = input('請輸入待辦事項?')\n",
        "待辦事項.append(工作)\n",
        "工作 = input('請輸入待辦事項?')\n",
        "待辦事項.append(工作)\n",
        "工作 = input('請輸入待辦事項?')\n",
        "待辦事項.append(工作)\n",
        "工作 = input('請輸入待辦事項?')\n",
        "待辦事項.append(工作)\n",
        "print(待辦事項.pop(0), 待辦事項.pop(0), 待辦事項)\n",
        "print(待辦事項.pop(), 待辦事項)"
      ],
      "execution_count": 2,
      "outputs": [
        {
          "output_type": "stream",
          "text": [
            "請輸入待辦事項?打球\n",
            "請輸入待辦事項?閱讀\n",
            "請輸入待辦事項?吃飯\n",
            "請輸入待辦事項?借書\n",
            "請輸入待辦事項?寫程式\n",
            "打球 閱讀 ['吃飯', '借書', '寫程式']\n",
            "寫程式 ['吃飯', '借書']\n"
          ],
          "name": "stdout"
        }
      ]
    },
    {
      "cell_type": "code",
      "metadata": {
        "id": "gFmY4V_tqJNO",
        "colab_type": "code",
        "colab": {
          "base_uri": "https://localhost:8080/",
          "height": 84
        },
        "outputId": "9860a810-700a-4a20-a408-395b9bd31350"
      },
      "source": [
        "字典 = {'dog':'狗', 'fish':'魚', 'cat':'貓', 'pig':'豬'}\n",
        "print(字典.keys())\n",
        "print(字典)\n",
        "英文 = input('請輸入一個英文單字?')\n",
        "print(字典.get(英文,'字典找不到該單字'))\n"
      ],
      "execution_count": 3,
      "outputs": [
        {
          "output_type": "stream",
          "text": [
            "dict_keys(['dog', 'fish', 'cat', 'pig'])\n",
            "{'dog': '狗', 'fish': '魚', 'cat': '貓', 'pig': '豬'}\n",
            "請輸入一個英文單字?dog\n",
            "狗\n"
          ],
          "name": "stdout"
        }
      ]
    },
    {
      "cell_type": "code",
      "metadata": {
        "id": "TgR5DnJQqd68",
        "colab_type": "code",
        "colab": {
          "base_uri": "https://localhost:8080/",
          "height": 34
        },
        "outputId": "af376376-90ad-4aea-a6c3-eb9d477747e1"
      },
      "source": [
        "詩 = '春眠不覺曉,處處聞啼鳥。夜來風雨聲,花落知多少。'\n",
        "字 = set(詩)\n",
        "字.remove(',')\n",
        "字.remove('。')\n",
        "print(字)"
      ],
      "execution_count": 4,
      "outputs": [
        {
          "output_type": "stream",
          "text": [
            "{'夜', '花', '聲', '不', '少', '處', '覺', '曉', '啼', '春', '落', '鳥', '雨', '多', '眠', '來', '知', '聞', '風'}\n"
          ],
          "name": "stdout"
        }
      ]
    },
    {
      "cell_type": "code",
      "metadata": {
        "id": "Jn2QXa9Vqlh9",
        "colab_type": "code",
        "colab": {
          "base_uri": "https://localhost:8080/",
          "height": 70
        },
        "outputId": "12d7ca19-84f1-419a-cebb-d1163b819728"
      },
      "source": [
        "星期 = ['Sunday', 'Monday', 'Tuesday', 'Wednesday', 'Thursday', 'Friday', 'Saturday']\n",
        "月份 = ['January', 'February', 'March', 'April', 'May', 'June', \\\n",
        "'July', 'August', 'September', 'October', 'November', 'December']\n",
        "dic = {'week':星期, 'month':月份}\n",
        "print(dic['month'])\n",
        "print(dic['month'][7])"
      ],
      "execution_count": 5,
      "outputs": [
        {
          "output_type": "stream",
          "text": [
            "['January', 'February', 'March', 'April', 'May', 'June', 'July', 'August', 'September', 'October', 'November', 'December']\n",
            "August\n"
          ],
          "name": "stdout"
        }
      ]
    },
    {
      "cell_type": "code",
      "metadata": {
        "id": "YBxXCHWdqoKY",
        "colab_type": "code",
        "colab": {
          "base_uri": "https://localhost:8080/",
          "height": 84
        },
        "outputId": "3e50efa6-e41c-4d60-d3e0-1f1d9efed342"
      },
      "source": [
        "s = input('請輸入一行英文句子?')\n",
        "words = s.split(' ')\n",
        "print('將英文句子以空白字元切割後,獲得單字為', words)\n",
        "s2 = ' '.join(words)\n",
        "print('以空白字元結合所有單字後,獲得句子為', s2)\n",
        "s3 = s.title()\n",
        "print('將每個單字字首轉大寫後,獲得句子為',s3)"
      ],
      "execution_count": 6,
      "outputs": [
        {
          "output_type": "stream",
          "text": [
            "請輸入一行英文句子?an apple a day keeps the dotor away\n",
            "將英文句子以空白字元切割後,獲得單字為 ['an', 'apple', 'a', 'day', 'keeps', 'the', 'dotor', 'away']\n",
            "以空白字元結合所有單字後,獲得句子為 an apple a day keeps the dotor away\n",
            "將每個單字字首轉大寫後,獲得句子為 An Apple A Day Keeps The Dotor Away\n"
          ],
          "name": "stdout"
        }
      ]
    },
    {
      "cell_type": "code",
      "metadata": {
        "id": "hCLagW5yq5ij",
        "colab_type": "code",
        "colab": {
          "base_uri": "https://localhost:8080/",
          "height": 50
        },
        "outputId": "58a97643-f1dd-46bf-d718-754e5adeb0d4"
      },
      "source": [
        "s = input('請輸入一行英文句子?')\n",
        "s.strip(' .')\n",
        "words = s.split(' ')\n",
        "print(words[::-1])"
      ],
      "execution_count": 9,
      "outputs": [
        {
          "output_type": "stream",
          "text": [
            "請輸入一行英文句子?an apple a day keeps the dotor away\n",
            "['away', 'dotor', 'the', 'keeps', 'day', 'a', 'apple', 'an']\n"
          ],
          "name": "stdout"
        }
      ]
    },
    {
      "cell_type": "code",
      "metadata": {
        "id": "u8h61ZDwrEtv",
        "colab_type": "code",
        "colab": {
          "base_uri": "https://localhost:8080/",
          "height": 67
        },
        "outputId": "61971f63-c13e-4400-e98e-9c20974148eb"
      },
      "source": [
        "全班學生 = set(['John', 'Mary', 'Tina', 'Fiona', 'Claire', 'Eva', 'Ben', 'Bill', 'Bert'\n",
        "])\n",
        "英文及格 = set(['John', 'Mary', 'Fiona', 'Claire', 'Ben', 'Bill'])\n",
        "數學及格 = set(['Mary', 'Fiona', 'Claire', 'Eva', 'Ben'])\n",
        "print('英文與數學都及格', 英文及格&數學及格)\n",
        "print('數學不及格', 全班學生-數學及格)\n",
        "print('英文及格與數學不及格', 英文及格&(全班學生-數學及格))"
      ],
      "execution_count": 10,
      "outputs": [
        {
          "output_type": "stream",
          "text": [
            "英文與數學都及格 {'Mary', 'Fiona', 'Claire', 'Ben'}\n",
            "數學不及格 {'Bert', 'John', 'Bill', 'Tina'}\n",
            "英文及格與數學不及格 {'John', 'Bill'}\n"
          ],
          "name": "stdout"
        }
      ]
    },
    {
      "cell_type": "code",
      "metadata": {
        "id": "qd6nmR8PrWDn",
        "colab_type": "code",
        "colab": {
          "base_uri": "https://localhost:8080/",
          "height": 34
        },
        "outputId": "b5ba6a89-2d1c-42de-caa6-0555620dd3a1"
      },
      "source": [
        "p1 = '紅豆生南國,春來發幾枝?願君多采擷,此物最相思。'\n",
        "p2 = '春眠不覺曉,處處聞啼鳥。夜來風雨聲,花落知多少。'\n",
        "s1 = set(p1)\n",
        "s1.remove(',')\n",
        "s1.remove('。')\n",
        "s1.remove('?')\n",
        "s2 = set(p2)\n",
        "s2.remove(',')\n",
        "s2.remove('。')\n",
        "print(s1&s2)"
      ],
      "execution_count": 11,
      "outputs": [
        {
          "output_type": "stream",
          "text": [
            "{'春', '來', '多'}\n"
          ],
          "name": "stdout"
        }
      ]
    },
    {
      "cell_type": "code",
      "metadata": {
        "id": "i1S9x1jMrWya",
        "colab_type": "code",
        "colab": {
          "base_uri": "https://localhost:8080/",
          "height": 151
        },
        "outputId": "8053a2d5-a85f-4fbf-f519-a61a31cab80e"
      },
      "source": [
        "mail = dict()\n",
        "name = input('請輸入姓名?')\n",
        "email = input('請輸入電子郵件?')\n",
        "mail[name]=email\n",
        "name = input('請輸入姓名?')\n",
        "email = input('請輸入電子郵件?')\n",
        "mail[name]=email\n",
        "name = input('請輸入姓名?')\n",
        "email = input('請輸入電子郵件?')\n",
        "mail[name]=email\n",
        "name = input('請輸入要查詢電子郵件的姓名?')\n",
        "print(mail[name])\n"
      ],
      "execution_count": 12,
      "outputs": [
        {
          "output_type": "stream",
          "text": [
            "請輸入姓名?John\n",
            "請輸入電子郵件?John@xxx.com\n",
            "請輸入姓名?Claire\n",
            "請輸入電子郵件?Claire@xxx.com\n",
            "請輸入姓名?Fiona\n",
            "請輸入電子郵件?fiona@xxx.tw\n",
            "請輸入要查詢電子郵件的姓名?Claire\n",
            "Claire@xxx.com\n"
          ],
          "name": "stdout"
        }
      ]
    },
    {
      "cell_type": "code",
      "metadata": {
        "id": "bCamm2A5reyr",
        "colab_type": "code",
        "colab": {}
      },
      "source": [
        ""
      ],
      "execution_count": 0,
      "outputs": []
    }
  ]
}